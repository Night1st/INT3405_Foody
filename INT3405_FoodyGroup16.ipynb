{
  "cells": [
    {
      "cell_type": "code",
      "execution_count": null,
      "metadata": {
        "id": "xhy-nwY5VptU"
      },
      "outputs": [],
      "source": [
        "import numpy as np\n",
        "import pandas as pd\n",
        "import csv\n",
        "import tensorflow as tf\n",
        "import matplotlib.pyplot as plt\n",
        "from sklearn.model_selection import train_test_split"
      ]
    },
    {
      "cell_type": "code",
      "execution_count": null,
      "metadata": {
        "colab": {
          "base_uri": "https://localhost:8080/"
        },
        "id": "bAEnuzekw8fM",
        "outputId": "d061d851-84d7-4273-8823-26eddf5c932e"
      },
      "outputs": [
        {
          "output_type": "stream",
          "name": "stdout",
          "text": [
            "Looking in indexes: https://pypi.org/simple, https://us-python.pkg.dev/colab-wheels/public/simple/\n",
            "Collecting pyvi\n",
            "  Downloading pyvi-0.1.1-py2.py3-none-any.whl (8.5 MB)\n",
            "\u001b[K     |████████████████████████████████| 8.5 MB 5.3 MB/s \n",
            "\u001b[?25hCollecting sklearn-crfsuite\n",
            "  Downloading sklearn_crfsuite-0.3.6-py2.py3-none-any.whl (12 kB)\n",
            "Requirement already satisfied: scikit-learn in /usr/local/lib/python3.8/dist-packages (from pyvi) (1.0.2)\n",
            "Requirement already satisfied: scipy>=1.1.0 in /usr/local/lib/python3.8/dist-packages (from scikit-learn->pyvi) (1.7.3)\n",
            "Requirement already satisfied: joblib>=0.11 in /usr/local/lib/python3.8/dist-packages (from scikit-learn->pyvi) (1.2.0)\n",
            "Requirement already satisfied: threadpoolctl>=2.0.0 in /usr/local/lib/python3.8/dist-packages (from scikit-learn->pyvi) (3.1.0)\n",
            "Requirement already satisfied: numpy>=1.14.6 in /usr/local/lib/python3.8/dist-packages (from scikit-learn->pyvi) (1.21.6)\n",
            "Requirement already satisfied: tqdm>=2.0 in /usr/local/lib/python3.8/dist-packages (from sklearn-crfsuite->pyvi) (4.64.1)\n",
            "Requirement already satisfied: six in /usr/local/lib/python3.8/dist-packages (from sklearn-crfsuite->pyvi) (1.15.0)\n",
            "Requirement already satisfied: tabulate in /usr/local/lib/python3.8/dist-packages (from sklearn-crfsuite->pyvi) (0.8.10)\n",
            "Collecting python-crfsuite>=0.8.3\n",
            "  Downloading python_crfsuite-0.9.8-cp38-cp38-manylinux_2_17_x86_64.manylinux2014_x86_64.whl (1.0 MB)\n",
            "\u001b[K     |████████████████████████████████| 1.0 MB 68.6 MB/s \n",
            "\u001b[?25hInstalling collected packages: python-crfsuite, sklearn-crfsuite, pyvi\n",
            "Successfully installed python-crfsuite-0.9.8 pyvi-0.1.1 sklearn-crfsuite-0.3.6\n"
          ]
        }
      ],
      "source": [
        "!pip install pyvi"
      ]
    },
    {
      "cell_type": "code",
      "execution_count": null,
      "metadata": {
        "id": "4uxPMSds08f9"
      },
      "outputs": [],
      "source": [
        "from tensorflow.keras.layers import Embedding, Dense, Dropout, Bidirectional, LSTM, GRU, Input, GlobalMaxPooling1D, LayerNormalization, Conv1D, MaxPooling1D, Dropout, LayerNormalization\n",
        "from tensorflow.keras.optimizers import Adam, SGD\n",
        "from tensorflow.keras import Sequential\n",
        "from tensorflow.keras.models import load_model\n",
        "from tensorflow.keras.preprocessing.text import Tokenizer\n",
        "from tensorflow.keras.preprocessing.sequence import pad_sequences\n",
        "from pyvi import ViTokenizer\n",
        "from pyvi import ViUtils"
      ]
    },
    {
      "cell_type": "code",
      "execution_count": null,
      "metadata": {
        "colab": {
          "base_uri": "https://localhost:8080/",
          "height": 695
        },
        "id": "8ZwmMY-i5OQ3",
        "outputId": "be57e036-ddce-47f1-a383-95e5e334ad92"
      },
      "outputs": [
        {
          "output_type": "execute_result",
          "data": {
            "text/plain": [
              "  Unnamed: 0    RevId      UserId  \\\n",
              "0          0  3839333  10106093.0   \n",
              "1          1  2824877    786914.0   \n",
              "2          2  9816702  22467889.0   \n",
              "3          3  2684585   1889449.0   \n",
              "4          4  2737987   8839942.0   \n",
              "\n",
              "                                             Comment  \\\n",
              "0  Xôi dẻo, đồ ăn đậm vị. Hộp xôi được lót lá trô...   \n",
              "1  Gọi ship 1 xuất cari gà bánh naan và 3 miếng g...   \n",
              "2  Thời tiết lạnh như này, cả nhà rủ nhau đến leg...   \n",
              "3  Em có đọc review thấy mng bảo trà sữa nướng đề...   \n",
              "4  Đồ ăn rất ngon, nhà hàng cũng rất đẹp, tất cả ...   \n",
              "\n",
              "                                          image_urls  Rating  \n",
              "0  ['https://images.foody.vn/res/g97/966781/s800/...     1.0  \n",
              "1  ['https://images.foody.vn/res/g69/688413/s800/...     0.0  \n",
              "2  ['https://images.foody.vn/res/g72/715078/s800/...     1.0  \n",
              "3  ['https://images.foody.vn/res/g90/895545/s800/...     0.0  \n",
              "4  ['https://images.foody.vn/res/g4/30186/s800/fo...     1.0  "
            ],
            "text/html": [
              "\n",
              "  <div id=\"df-726ecbd3-207e-4617-ad6e-a017dfb3b91c\">\n",
              "    <div class=\"colab-df-container\">\n",
              "      <div>\n",
              "<style scoped>\n",
              "    .dataframe tbody tr th:only-of-type {\n",
              "        vertical-align: middle;\n",
              "    }\n",
              "\n",
              "    .dataframe tbody tr th {\n",
              "        vertical-align: top;\n",
              "    }\n",
              "\n",
              "    .dataframe thead th {\n",
              "        text-align: right;\n",
              "    }\n",
              "</style>\n",
              "<table border=\"1\" class=\"dataframe\">\n",
              "  <thead>\n",
              "    <tr style=\"text-align: right;\">\n",
              "      <th></th>\n",
              "      <th>Unnamed: 0</th>\n",
              "      <th>RevId</th>\n",
              "      <th>UserId</th>\n",
              "      <th>Comment</th>\n",
              "      <th>image_urls</th>\n",
              "      <th>Rating</th>\n",
              "    </tr>\n",
              "  </thead>\n",
              "  <tbody>\n",
              "    <tr>\n",
              "      <th>0</th>\n",
              "      <td>0</td>\n",
              "      <td>3839333</td>\n",
              "      <td>10106093.0</td>\n",
              "      <td>Xôi dẻo, đồ ăn đậm vị. Hộp xôi được lót lá trô...</td>\n",
              "      <td>['https://images.foody.vn/res/g97/966781/s800/...</td>\n",
              "      <td>1.0</td>\n",
              "    </tr>\n",
              "    <tr>\n",
              "      <th>1</th>\n",
              "      <td>1</td>\n",
              "      <td>2824877</td>\n",
              "      <td>786914.0</td>\n",
              "      <td>Gọi ship 1 xuất cari gà bánh naan và 3 miếng g...</td>\n",
              "      <td>['https://images.foody.vn/res/g69/688413/s800/...</td>\n",
              "      <td>0.0</td>\n",
              "    </tr>\n",
              "    <tr>\n",
              "      <th>2</th>\n",
              "      <td>2</td>\n",
              "      <td>9816702</td>\n",
              "      <td>22467889.0</td>\n",
              "      <td>Thời tiết lạnh như này, cả nhà rủ nhau đến leg...</td>\n",
              "      <td>['https://images.foody.vn/res/g72/715078/s800/...</td>\n",
              "      <td>1.0</td>\n",
              "    </tr>\n",
              "    <tr>\n",
              "      <th>3</th>\n",
              "      <td>3</td>\n",
              "      <td>2684585</td>\n",
              "      <td>1889449.0</td>\n",
              "      <td>Em có đọc review thấy mng bảo trà sữa nướng đề...</td>\n",
              "      <td>['https://images.foody.vn/res/g90/895545/s800/...</td>\n",
              "      <td>0.0</td>\n",
              "    </tr>\n",
              "    <tr>\n",
              "      <th>4</th>\n",
              "      <td>4</td>\n",
              "      <td>2737987</td>\n",
              "      <td>8839942.0</td>\n",
              "      <td>Đồ ăn rất ngon, nhà hàng cũng rất đẹp, tất cả ...</td>\n",
              "      <td>['https://images.foody.vn/res/g4/30186/s800/fo...</td>\n",
              "      <td>1.0</td>\n",
              "    </tr>\n",
              "  </tbody>\n",
              "</table>\n",
              "</div>\n",
              "      <button class=\"colab-df-convert\" onclick=\"convertToInteractive('df-726ecbd3-207e-4617-ad6e-a017dfb3b91c')\"\n",
              "              title=\"Convert this dataframe to an interactive table.\"\n",
              "              style=\"display:none;\">\n",
              "        \n",
              "  <svg xmlns=\"http://www.w3.org/2000/svg\" height=\"24px\"viewBox=\"0 0 24 24\"\n",
              "       width=\"24px\">\n",
              "    <path d=\"M0 0h24v24H0V0z\" fill=\"none\"/>\n",
              "    <path d=\"M18.56 5.44l.94 2.06.94-2.06 2.06-.94-2.06-.94-.94-2.06-.94 2.06-2.06.94zm-11 1L8.5 8.5l.94-2.06 2.06-.94-2.06-.94L8.5 2.5l-.94 2.06-2.06.94zm10 10l.94 2.06.94-2.06 2.06-.94-2.06-.94-.94-2.06-.94 2.06-2.06.94z\"/><path d=\"M17.41 7.96l-1.37-1.37c-.4-.4-.92-.59-1.43-.59-.52 0-1.04.2-1.43.59L10.3 9.45l-7.72 7.72c-.78.78-.78 2.05 0 2.83L4 21.41c.39.39.9.59 1.41.59.51 0 1.02-.2 1.41-.59l7.78-7.78 2.81-2.81c.8-.78.8-2.07 0-2.86zM5.41 20L4 18.59l7.72-7.72 1.47 1.35L5.41 20z\"/>\n",
              "  </svg>\n",
              "      </button>\n",
              "      \n",
              "  <style>\n",
              "    .colab-df-container {\n",
              "      display:flex;\n",
              "      flex-wrap:wrap;\n",
              "      gap: 12px;\n",
              "    }\n",
              "\n",
              "    .colab-df-convert {\n",
              "      background-color: #E8F0FE;\n",
              "      border: none;\n",
              "      border-radius: 50%;\n",
              "      cursor: pointer;\n",
              "      display: none;\n",
              "      fill: #1967D2;\n",
              "      height: 32px;\n",
              "      padding: 0 0 0 0;\n",
              "      width: 32px;\n",
              "    }\n",
              "\n",
              "    .colab-df-convert:hover {\n",
              "      background-color: #E2EBFA;\n",
              "      box-shadow: 0px 1px 2px rgba(60, 64, 67, 0.3), 0px 1px 3px 1px rgba(60, 64, 67, 0.15);\n",
              "      fill: #174EA6;\n",
              "    }\n",
              "\n",
              "    [theme=dark] .colab-df-convert {\n",
              "      background-color: #3B4455;\n",
              "      fill: #D2E3FC;\n",
              "    }\n",
              "\n",
              "    [theme=dark] .colab-df-convert:hover {\n",
              "      background-color: #434B5C;\n",
              "      box-shadow: 0px 1px 3px 1px rgba(0, 0, 0, 0.15);\n",
              "      filter: drop-shadow(0px 1px 2px rgba(0, 0, 0, 0.3));\n",
              "      fill: #FFFFFF;\n",
              "    }\n",
              "  </style>\n",
              "\n",
              "      <script>\n",
              "        const buttonEl =\n",
              "          document.querySelector('#df-726ecbd3-207e-4617-ad6e-a017dfb3b91c button.colab-df-convert');\n",
              "        buttonEl.style.display =\n",
              "          google.colab.kernel.accessAllowed ? 'block' : 'none';\n",
              "\n",
              "        async function convertToInteractive(key) {\n",
              "          const element = document.querySelector('#df-726ecbd3-207e-4617-ad6e-a017dfb3b91c');\n",
              "          const dataTable =\n",
              "            await google.colab.kernel.invokeFunction('convertToInteractive',\n",
              "                                                     [key], {});\n",
              "          if (!dataTable) return;\n",
              "\n",
              "          const docLinkHtml = 'Like what you see? Visit the ' +\n",
              "            '<a target=\"_blank\" href=https://colab.research.google.com/notebooks/data_table.ipynb>data table notebook</a>'\n",
              "            + ' to learn more about interactive tables.';\n",
              "          element.innerHTML = '';\n",
              "          dataTable['output_type'] = 'display_data';\n",
              "          await google.colab.output.renderOutput(dataTable, element);\n",
              "          const docLink = document.createElement('div');\n",
              "          docLink.innerHTML = docLinkHtml;\n",
              "          element.appendChild(docLink);\n",
              "        }\n",
              "      </script>\n",
              "    </div>\n",
              "  </div>\n",
              "  "
            ]
          },
          "metadata": {},
          "execution_count": 4
        }
      ],
      "source": [
        "foody_data = pd.read_csv('full_train.csv')\n",
        "foody_data.head()"
      ]
    },
    {
      "cell_type": "code",
      "execution_count": null,
      "metadata": {
        "colab": {
          "base_uri": "https://localhost:8080/",
          "height": 206
        },
        "id": "Q74cgWes5V7P",
        "outputId": "491c3153-9410-4821-8669-13310594c09a"
      },
      "outputs": [
        {
          "output_type": "execute_result",
          "data": {
            "text/plain": [
              "   Unnamed: 0    RevId    UserId  \\\n",
              "0           0   781115   1326532   \n",
              "1           1  1219481    422306   \n",
              "2           2  1703765   9779143   \n",
              "3           3  4870346  12924388   \n",
              "4           4  2638711   1134279   \n",
              "\n",
              "                                             Comment  \\\n",
              "0  Trà táo 35k\\nCookie socola 38k \\nNước ở đây bì...   \n",
              "1  Hôm rồi trung tâm mình tổ chức noel party ở đâ...   \n",
              "2  Thịt gà của quán là nhất đấy. Đi ăn gọi liền 4...   \n",
              "3  Hai đứa ăn xong đau bụng cả ngày\\nChân gà ok n...   \n",
              "4  Mình vừa thử trưa nay. Điểm cộng đầu tiên là b...   \n",
              "\n",
              "                                          image_urls  \n",
              "0  ['https://images.foody.vn/res/g8/73091/s800/fo...  \n",
              "1  ['https://images.foody.vn/res/g1/33/s800/foody...  \n",
              "2  ['https://images.foody.vn/res/g66/659655/s800/...  \n",
              "3  ['https://images.foody.vn/res/g78/772244/s800/...  \n",
              "4  ['https://images.foody.vn/res/g74/737874/s800/...  "
            ],
            "text/html": [
              "\n",
              "  <div id=\"df-b351203d-08be-4f99-9aa8-d5427cbf53f3\">\n",
              "    <div class=\"colab-df-container\">\n",
              "      <div>\n",
              "<style scoped>\n",
              "    .dataframe tbody tr th:only-of-type {\n",
              "        vertical-align: middle;\n",
              "    }\n",
              "\n",
              "    .dataframe tbody tr th {\n",
              "        vertical-align: top;\n",
              "    }\n",
              "\n",
              "    .dataframe thead th {\n",
              "        text-align: right;\n",
              "    }\n",
              "</style>\n",
              "<table border=\"1\" class=\"dataframe\">\n",
              "  <thead>\n",
              "    <tr style=\"text-align: right;\">\n",
              "      <th></th>\n",
              "      <th>Unnamed: 0</th>\n",
              "      <th>RevId</th>\n",
              "      <th>UserId</th>\n",
              "      <th>Comment</th>\n",
              "      <th>image_urls</th>\n",
              "    </tr>\n",
              "  </thead>\n",
              "  <tbody>\n",
              "    <tr>\n",
              "      <th>0</th>\n",
              "      <td>0</td>\n",
              "      <td>781115</td>\n",
              "      <td>1326532</td>\n",
              "      <td>Trà táo 35k\\nCookie socola 38k \\nNước ở đây bì...</td>\n",
              "      <td>['https://images.foody.vn/res/g8/73091/s800/fo...</td>\n",
              "    </tr>\n",
              "    <tr>\n",
              "      <th>1</th>\n",
              "      <td>1</td>\n",
              "      <td>1219481</td>\n",
              "      <td>422306</td>\n",
              "      <td>Hôm rồi trung tâm mình tổ chức noel party ở đâ...</td>\n",
              "      <td>['https://images.foody.vn/res/g1/33/s800/foody...</td>\n",
              "    </tr>\n",
              "    <tr>\n",
              "      <th>2</th>\n",
              "      <td>2</td>\n",
              "      <td>1703765</td>\n",
              "      <td>9779143</td>\n",
              "      <td>Thịt gà của quán là nhất đấy. Đi ăn gọi liền 4...</td>\n",
              "      <td>['https://images.foody.vn/res/g66/659655/s800/...</td>\n",
              "    </tr>\n",
              "    <tr>\n",
              "      <th>3</th>\n",
              "      <td>3</td>\n",
              "      <td>4870346</td>\n",
              "      <td>12924388</td>\n",
              "      <td>Hai đứa ăn xong đau bụng cả ngày\\nChân gà ok n...</td>\n",
              "      <td>['https://images.foody.vn/res/g78/772244/s800/...</td>\n",
              "    </tr>\n",
              "    <tr>\n",
              "      <th>4</th>\n",
              "      <td>4</td>\n",
              "      <td>2638711</td>\n",
              "      <td>1134279</td>\n",
              "      <td>Mình vừa thử trưa nay. Điểm cộng đầu tiên là b...</td>\n",
              "      <td>['https://images.foody.vn/res/g74/737874/s800/...</td>\n",
              "    </tr>\n",
              "  </tbody>\n",
              "</table>\n",
              "</div>\n",
              "      <button class=\"colab-df-convert\" onclick=\"convertToInteractive('df-b351203d-08be-4f99-9aa8-d5427cbf53f3')\"\n",
              "              title=\"Convert this dataframe to an interactive table.\"\n",
              "              style=\"display:none;\">\n",
              "        \n",
              "  <svg xmlns=\"http://www.w3.org/2000/svg\" height=\"24px\"viewBox=\"0 0 24 24\"\n",
              "       width=\"24px\">\n",
              "    <path d=\"M0 0h24v24H0V0z\" fill=\"none\"/>\n",
              "    <path d=\"M18.56 5.44l.94 2.06.94-2.06 2.06-.94-2.06-.94-.94-2.06-.94 2.06-2.06.94zm-11 1L8.5 8.5l.94-2.06 2.06-.94-2.06-.94L8.5 2.5l-.94 2.06-2.06.94zm10 10l.94 2.06.94-2.06 2.06-.94-2.06-.94-.94-2.06-.94 2.06-2.06.94z\"/><path d=\"M17.41 7.96l-1.37-1.37c-.4-.4-.92-.59-1.43-.59-.52 0-1.04.2-1.43.59L10.3 9.45l-7.72 7.72c-.78.78-.78 2.05 0 2.83L4 21.41c.39.39.9.59 1.41.59.51 0 1.02-.2 1.41-.59l7.78-7.78 2.81-2.81c.8-.78.8-2.07 0-2.86zM5.41 20L4 18.59l7.72-7.72 1.47 1.35L5.41 20z\"/>\n",
              "  </svg>\n",
              "      </button>\n",
              "      \n",
              "  <style>\n",
              "    .colab-df-container {\n",
              "      display:flex;\n",
              "      flex-wrap:wrap;\n",
              "      gap: 12px;\n",
              "    }\n",
              "\n",
              "    .colab-df-convert {\n",
              "      background-color: #E8F0FE;\n",
              "      border: none;\n",
              "      border-radius: 50%;\n",
              "      cursor: pointer;\n",
              "      display: none;\n",
              "      fill: #1967D2;\n",
              "      height: 32px;\n",
              "      padding: 0 0 0 0;\n",
              "      width: 32px;\n",
              "    }\n",
              "\n",
              "    .colab-df-convert:hover {\n",
              "      background-color: #E2EBFA;\n",
              "      box-shadow: 0px 1px 2px rgba(60, 64, 67, 0.3), 0px 1px 3px 1px rgba(60, 64, 67, 0.15);\n",
              "      fill: #174EA6;\n",
              "    }\n",
              "\n",
              "    [theme=dark] .colab-df-convert {\n",
              "      background-color: #3B4455;\n",
              "      fill: #D2E3FC;\n",
              "    }\n",
              "\n",
              "    [theme=dark] .colab-df-convert:hover {\n",
              "      background-color: #434B5C;\n",
              "      box-shadow: 0px 1px 3px 1px rgba(0, 0, 0, 0.15);\n",
              "      filter: drop-shadow(0px 1px 2px rgba(0, 0, 0, 0.3));\n",
              "      fill: #FFFFFF;\n",
              "    }\n",
              "  </style>\n",
              "\n",
              "      <script>\n",
              "        const buttonEl =\n",
              "          document.querySelector('#df-b351203d-08be-4f99-9aa8-d5427cbf53f3 button.colab-df-convert');\n",
              "        buttonEl.style.display =\n",
              "          google.colab.kernel.accessAllowed ? 'block' : 'none';\n",
              "\n",
              "        async function convertToInteractive(key) {\n",
              "          const element = document.querySelector('#df-b351203d-08be-4f99-9aa8-d5427cbf53f3');\n",
              "          const dataTable =\n",
              "            await google.colab.kernel.invokeFunction('convertToInteractive',\n",
              "                                                     [key], {});\n",
              "          if (!dataTable) return;\n",
              "\n",
              "          const docLinkHtml = 'Like what you see? Visit the ' +\n",
              "            '<a target=\"_blank\" href=https://colab.research.google.com/notebooks/data_table.ipynb>data table notebook</a>'\n",
              "            + ' to learn more about interactive tables.';\n",
              "          element.innerHTML = '';\n",
              "          dataTable['output_type'] = 'display_data';\n",
              "          await google.colab.output.renderOutput(dataTable, element);\n",
              "          const docLink = document.createElement('div');\n",
              "          docLink.innerHTML = docLinkHtml;\n",
              "          element.appendChild(docLink);\n",
              "        }\n",
              "      </script>\n",
              "    </div>\n",
              "  </div>\n",
              "  "
            ]
          },
          "metadata": {},
          "execution_count": 8
        }
      ],
      "source": [
        "test_data = pd.read_csv('test.csv')\n",
        "test_data.head()"
      ]
    },
    {
      "cell_type": "code",
      "execution_count": null,
      "metadata": {
        "colab": {
          "base_uri": "https://localhost:8080/",
          "height": 206
        },
        "id": "u8DtOusl9OJT",
        "outputId": "d50b199b-cfb6-4a62-9c59-81d49d3eddfc"
      },
      "outputs": [
        {
          "output_type": "execute_result",
          "data": {
            "text/plain": [
              "                                             Comment  Rating\n",
              "0  Xôi dẻo, đồ ăn đậm vị. Hộp xôi được lót lá trô...     1.0\n",
              "1  Gọi ship 1 xuất cari gà bánh naan và 3 miếng g...     0.0\n",
              "2  Thời tiết lạnh như này, cả nhà rủ nhau đến leg...     1.0\n",
              "3  Em có đọc review thấy mng bảo trà sữa nướng đề...     0.0\n",
              "4  Đồ ăn rất ngon, nhà hàng cũng rất đẹp, tất cả ...     1.0"
            ],
            "text/html": [
              "\n",
              "  <div id=\"df-189772dd-92ec-4869-90b6-12b5fd456ce3\">\n",
              "    <div class=\"colab-df-container\">\n",
              "      <div>\n",
              "<style scoped>\n",
              "    .dataframe tbody tr th:only-of-type {\n",
              "        vertical-align: middle;\n",
              "    }\n",
              "\n",
              "    .dataframe tbody tr th {\n",
              "        vertical-align: top;\n",
              "    }\n",
              "\n",
              "    .dataframe thead th {\n",
              "        text-align: right;\n",
              "    }\n",
              "</style>\n",
              "<table border=\"1\" class=\"dataframe\">\n",
              "  <thead>\n",
              "    <tr style=\"text-align: right;\">\n",
              "      <th></th>\n",
              "      <th>Comment</th>\n",
              "      <th>Rating</th>\n",
              "    </tr>\n",
              "  </thead>\n",
              "  <tbody>\n",
              "    <tr>\n",
              "      <th>0</th>\n",
              "      <td>Xôi dẻo, đồ ăn đậm vị. Hộp xôi được lót lá trô...</td>\n",
              "      <td>1.0</td>\n",
              "    </tr>\n",
              "    <tr>\n",
              "      <th>1</th>\n",
              "      <td>Gọi ship 1 xuất cari gà bánh naan và 3 miếng g...</td>\n",
              "      <td>0.0</td>\n",
              "    </tr>\n",
              "    <tr>\n",
              "      <th>2</th>\n",
              "      <td>Thời tiết lạnh như này, cả nhà rủ nhau đến leg...</td>\n",
              "      <td>1.0</td>\n",
              "    </tr>\n",
              "    <tr>\n",
              "      <th>3</th>\n",
              "      <td>Em có đọc review thấy mng bảo trà sữa nướng đề...</td>\n",
              "      <td>0.0</td>\n",
              "    </tr>\n",
              "    <tr>\n",
              "      <th>4</th>\n",
              "      <td>Đồ ăn rất ngon, nhà hàng cũng rất đẹp, tất cả ...</td>\n",
              "      <td>1.0</td>\n",
              "    </tr>\n",
              "  </tbody>\n",
              "</table>\n",
              "</div>\n",
              "      <button class=\"colab-df-convert\" onclick=\"convertToInteractive('df-189772dd-92ec-4869-90b6-12b5fd456ce3')\"\n",
              "              title=\"Convert this dataframe to an interactive table.\"\n",
              "              style=\"display:none;\">\n",
              "        \n",
              "  <svg xmlns=\"http://www.w3.org/2000/svg\" height=\"24px\"viewBox=\"0 0 24 24\"\n",
              "       width=\"24px\">\n",
              "    <path d=\"M0 0h24v24H0V0z\" fill=\"none\"/>\n",
              "    <path d=\"M18.56 5.44l.94 2.06.94-2.06 2.06-.94-2.06-.94-.94-2.06-.94 2.06-2.06.94zm-11 1L8.5 8.5l.94-2.06 2.06-.94-2.06-.94L8.5 2.5l-.94 2.06-2.06.94zm10 10l.94 2.06.94-2.06 2.06-.94-2.06-.94-.94-2.06-.94 2.06-2.06.94z\"/><path d=\"M17.41 7.96l-1.37-1.37c-.4-.4-.92-.59-1.43-.59-.52 0-1.04.2-1.43.59L10.3 9.45l-7.72 7.72c-.78.78-.78 2.05 0 2.83L4 21.41c.39.39.9.59 1.41.59.51 0 1.02-.2 1.41-.59l7.78-7.78 2.81-2.81c.8-.78.8-2.07 0-2.86zM5.41 20L4 18.59l7.72-7.72 1.47 1.35L5.41 20z\"/>\n",
              "  </svg>\n",
              "      </button>\n",
              "      \n",
              "  <style>\n",
              "    .colab-df-container {\n",
              "      display:flex;\n",
              "      flex-wrap:wrap;\n",
              "      gap: 12px;\n",
              "    }\n",
              "\n",
              "    .colab-df-convert {\n",
              "      background-color: #E8F0FE;\n",
              "      border: none;\n",
              "      border-radius: 50%;\n",
              "      cursor: pointer;\n",
              "      display: none;\n",
              "      fill: #1967D2;\n",
              "      height: 32px;\n",
              "      padding: 0 0 0 0;\n",
              "      width: 32px;\n",
              "    }\n",
              "\n",
              "    .colab-df-convert:hover {\n",
              "      background-color: #E2EBFA;\n",
              "      box-shadow: 0px 1px 2px rgba(60, 64, 67, 0.3), 0px 1px 3px 1px rgba(60, 64, 67, 0.15);\n",
              "      fill: #174EA6;\n",
              "    }\n",
              "\n",
              "    [theme=dark] .colab-df-convert {\n",
              "      background-color: #3B4455;\n",
              "      fill: #D2E3FC;\n",
              "    }\n",
              "\n",
              "    [theme=dark] .colab-df-convert:hover {\n",
              "      background-color: #434B5C;\n",
              "      box-shadow: 0px 1px 3px 1px rgba(0, 0, 0, 0.15);\n",
              "      filter: drop-shadow(0px 1px 2px rgba(0, 0, 0, 0.3));\n",
              "      fill: #FFFFFF;\n",
              "    }\n",
              "  </style>\n",
              "\n",
              "      <script>\n",
              "        const buttonEl =\n",
              "          document.querySelector('#df-189772dd-92ec-4869-90b6-12b5fd456ce3 button.colab-df-convert');\n",
              "        buttonEl.style.display =\n",
              "          google.colab.kernel.accessAllowed ? 'block' : 'none';\n",
              "\n",
              "        async function convertToInteractive(key) {\n",
              "          const element = document.querySelector('#df-189772dd-92ec-4869-90b6-12b5fd456ce3');\n",
              "          const dataTable =\n",
              "            await google.colab.kernel.invokeFunction('convertToInteractive',\n",
              "                                                     [key], {});\n",
              "          if (!dataTable) return;\n",
              "\n",
              "          const docLinkHtml = 'Like what you see? Visit the ' +\n",
              "            '<a target=\"_blank\" href=https://colab.research.google.com/notebooks/data_table.ipynb>data table notebook</a>'\n",
              "            + ' to learn more about interactive tables.';\n",
              "          element.innerHTML = '';\n",
              "          dataTable['output_type'] = 'display_data';\n",
              "          await google.colab.output.renderOutput(dataTable, element);\n",
              "          const docLink = document.createElement('div');\n",
              "          docLink.innerHTML = docLinkHtml;\n",
              "          element.appendChild(docLink);\n",
              "        }\n",
              "      </script>\n",
              "    </div>\n",
              "  </div>\n",
              "  "
            ]
          },
          "metadata": {},
          "execution_count": 7
        }
      ],
      "source": [
        "sentiment_data = pd.DataFrame({'Comment': foody_data['Comment'], 'Rating': foody_data['Rating']})\n",
        "sentiment_data = sentiment_data.dropna()\n",
        "sentiment_data = sentiment_data.reset_index(drop=True)\n",
        "sentiment_data.head()"
      ]
    },
    {
      "cell_type": "code",
      "execution_count": null,
      "metadata": {
        "id": "UZJQDc462akd"
      },
      "outputs": [],
      "source": [
        "input_comment = sentiment_data['Comment'].values\n",
        "input_rating = sentiment_data['Rating'].values\n",
        "label_dict = {0.0:0, 1.0:1}"
      ]
    },
    {
      "cell_type": "code",
      "execution_count": null,
      "metadata": {
        "id": "J_VhnCz63w5S"
      },
      "outputs": [],
      "source": [
        "input_pre = []\n",
        "label_with_accent = []\n",
        "\n",
        "for idx, dt in enumerate(input_comment):\n",
        "  input_text_pre = list(tf.keras.preprocessing.text.text_to_word_sequence(dt))\n",
        "  input_text_pre = \" \".join(input_text_pre)\n",
        "  input_text_pre_no_accent = str(ViUtils.remove_accents(input_text_pre).decode(\"utf-8\"))\n",
        "  input_text_pre_accent = ViTokenizer.tokenize(input_text_pre)\n",
        "  input_text_pre_no_accent = ViTokenizer.tokenize(input_text_pre_no_accent)\n",
        "  input_pre.append(input_text_pre_accent)\n",
        "  input_pre.append(input_text_pre_no_accent)\n",
        "  label_with_accent.append(input_rating[idx])\n",
        "  label_with_accent.append(input_rating[idx])"
      ]
    },
    {
      "cell_type": "code",
      "execution_count": null,
      "metadata": {
        "colab": {
          "base_uri": "https://localhost:8080/",
          "height": 1000
        },
        "id": "z7aVwcuy-K00",
        "outputId": "e36662a7-13e7-4d5c-9457-c154e5798425"
      },
      "outputs": [
        {
          "output_type": "display_data",
          "data": {
            "text/plain": [
              "<Figure size 432x288 with 1 Axes>"
            ],
            "image/png": "[encoded data removed]"
          },
          "metadata": {
            "needs_background": "light"
          }
        },
        {
          "output_type": "display_data",
          "data": {
            "text/plain": [
              "<Figure size 432x288 with 1 Axes>"
            ],
            "image/png": "[encoded data removed]"
          },
          "metadata": {
            "needs_background": "light"
          }
        },
        {
          "output_type": "display_data",
          "data": {
            "text/plain": [
              "<Figure size 432x288 with 1 Axes>"
            ],
            "image/png": "[encoded data removed]"
          },
          "metadata": {
            "needs_background": "light"
          }
        },
        {
          "output_type": "display_data",
          "data": {
            "text/plain": [
              "<Figure size 432x288 with 1 Axes>"
            ],
            "image/png": "[encoded data removed]"
          },
          "metadata": {
            "needs_background": "light"
          }
        },
        {
          "output_type": "display_data",
          "data": {
            "text/plain": [
              "<Figure size 432x288 with 1 Axes>"
            ],
            "image/png": "[encoded data removed]"
          },
          "metadata": {
            "needs_background": "light"
          }
        },
        {
          "output_type": "display_data",
          "data": {
            "text/plain": [
              "<Figure size 432x288 with 1 Axes>"
            ],
            "image/png": "[encoded data removed]"
          },
          "metadata": {
            "needs_background": "light"
          }
        }
      ],
      "source": [
        "seq_len = [len(i.split()) for i in input_pre[1:1500]]\n",
        "pd.Series(seq_len).hist(bins = 10)\n",
        "plt.show()\n",
        "\n",
        "seq_len = [len(i.split()) for i in input_pre[1500:3000]]\n",
        "pd.Series(seq_len).hist(bins = 10)\n",
        "plt.show()\n",
        "\n",
        "seq_len = [len(i.split()) for i in input_pre[3000:4500]]\n",
        "pd.Series(seq_len).hist(bins = 10)\n",
        "plt.show()\n",
        "\n",
        "seq_len = [len(i.split()) for i in input_pre[4500:6000]]\n",
        "pd.Series(seq_len).hist(bins = 10)\n",
        "plt.show()\n",
        "\n",
        "seq_len = [len(i.split()) for i in input_pre[6000:7500]]\n",
        "pd.Series(seq_len).hist(bins = 10)\n",
        "plt.show()\n",
        "\n",
        "seq_len = [len(i.split()) for i in input_pre[7500:9075]]\n",
        "pd.Series(seq_len).hist(bins = 10)\n",
        "plt.show()"
      ]
    },
    {
      "cell_type": "code",
      "execution_count": null,
      "metadata": {
        "id": "jJdqFwBg_eYd"
      },
      "outputs": [],
      "source": [
        "label_idx = [label_dict[i] for i in label_with_accent]\n",
        "label_tf = tf.keras.utils.to_categorical(label_idx, num_classes=3, dtype='float32')\n",
        "\n",
        "tokenizer_data = Tokenizer(oov_token='<OOV>', filters='', split=' ')\n",
        "tokenizer_data.fit_on_texts(input_pre)\n",
        "\n",
        "tokenizer_data_text = tokenizer_data.texts_to_sequences(input_pre)\n",
        "vec_data = pad_sequences(tokenizer_data_text, padding='post', maxlen=600)\n",
        "\n",
        "print(\"input data shape: \",vec_data.shape)\n",
        "data_vocab_size = len(tokenizer_data.word_index)+1\n",
        "print(\"data vocab size: \",data_vocab_size)\n",
        "\n",
        "X_train, X_val, Y_train, Y_val = train_test_split(vec_data, label_tf, random_state=42)\n",
        "print(\"training sample: \", len(X_train))\n",
        "print(\"validation sample: \", len(X_val))"
      ]
    },
    {
      "cell_type": "code",
      "execution_count": null,
      "metadata": {
        "id": "hAjAnfZOA4YB"
      },
      "outputs": [],
      "source": [
        "def generate_model():\n",
        "  dropout_threshold = 0.4\n",
        "  input_dim = data_vocab_size\n",
        "  output_dim = 32\n",
        "  input_length = 600\n",
        "  initializer = tf.keras.initializers.GlorotNormal()\n",
        "\n",
        "  input_layer = Input(shape=(input_length))\n",
        "  feature = Embedding(input_dim=input_dim, output_dim=output_dim, input_length=input_length, embeddings_initializer=\"GlorotNormal\")(input_layer)\n",
        "\n",
        "  cnn_feature = Conv1D(filters=32, kernel_size=3, padding='same',activation='relu')(feature)\n",
        "  cnn_feature = MaxPooling1D()(cnn_feature)\n",
        "  cnn_feature = Dropout(dropout_threshold)(cnn_feature)\n",
        "  cnn_feature = Conv1D(filters=32, kernel_size=3, padding='same',activation='relu')(cnn_feature)\n",
        "  cnn_feature = MaxPooling1D()(cnn_feature)\n",
        "  cnn_feature = Dropout(dropout_threshold)(cnn_feature)\n",
        "\n",
        "  bi_lstm_feature = Bidirectional(LSTM(units=32, dropout=dropout_threshold, return_sequences=True, kernel_initializer=initializer), merge_mode='concat')(feature)\n",
        "  bi_lstm_feature = MaxPooling1D()(bi_lstm_feature)\n",
        "  bi_lstm_feature = Bidirectional(GRU(units=32, dropout=dropout_threshold, return_sequences=True, kernel_initializer=initializer), merge_mode='concat')(bi_lstm_feature)\n",
        "  bi_lstm_feature = MaxPooling1D()(bi_lstm_feature)\n",
        "  bi_lstm_feature = LayerNormalization()(bi_lstm_feature)\n",
        "\n",
        "  combine_feature = tf.keras.layers.Concatenate()([cnn_feature, bi_lstm_feature])\n",
        "  combine_feature = GlobalMaxPooling1D()(combine_feature)\n",
        "  combine_feature = LayerNormalization()(combine_feature)\n",
        "\n",
        "  classifier = Dense(90, activation='relu')(combine_feature)\n",
        "  classifier = Dropout(0.2)(classifier)\n",
        "  classifier = Dense(70, activation='relu')(classifier)\n",
        "  classifier = Dropout(0.2)(classifier)\n",
        "  classifier = Dense(50, activation='relu')(classifier)\n",
        "  classifier = Dropout(0.2)(classifier)\n",
        "  classifier = Dense(30, activation='relu')(classifier)\n",
        "  classifier = Dropout(0.2)(classifier)\n",
        "  classifier = Dense(3, activation='softmax')(classifier)\n",
        "\n",
        "  model = tf.keras.Model(inputs =input_layer, outputs = classifier)\n",
        "\n",
        "  return model"
      ]
    },
    {
      "cell_type": "code",
      "execution_count": null,
      "metadata": {
        "colab": {
          "base_uri": "https://localhost:8080/"
        },
        "id": "smVGbBy5tNQM",
        "outputId": "86cf81b1-26ba-49bb-dd18-d8499bf18bdc"
      },
      "outputs": [
        {
          "output_type": "stream",
          "name": "stdout",
          "text": [
            "Model: \"model\"\n",
            "__________________________________________________________________________________________________\n",
            " Layer (type)                   Output Shape         Param #     Connected to                     \n",
            "==================================================================================================\n",
            " input_1 (InputLayer)           [(None, 512)]        0           []                               \n",
            "                                                                                                  \n",
            " embedding (Embedding)          (None, 512, 32)      677568      ['input_1[0][0]']                \n",
            "                                                                                                  \n",
            " conv1d (Conv1D)                (None, 512, 32)      3104        ['embedding[0][0]']              \n",
            "                                                                                                  \n",
            " max_pooling1d (MaxPooling1D)   (None, 256, 32)      0           ['conv1d[0][0]']                 \n",
            "                                                                                                  \n",
            " bidirectional (Bidirectional)  (None, 512, 64)      16640       ['embedding[0][0]']              \n",
            "                                                                                                  \n",
            " dropout (Dropout)              (None, 256, 32)      0           ['max_pooling1d[0][0]']          \n",
            "                                                                                                  \n",
            " max_pooling1d_2 (MaxPooling1D)  (None, 256, 64)     0           ['bidirectional[0][0]']          \n",
            "                                                                                                  \n",
            " conv1d_1 (Conv1D)              (None, 256, 32)      3104        ['dropout[0][0]']                \n",
            "                                                                                                  \n",
            " bidirectional_1 (Bidirectional  (None, 256, 64)     18816       ['max_pooling1d_2[0][0]']        \n",
            " )                                                                                                \n",
            "                                                                                                  \n",
            " max_pooling1d_1 (MaxPooling1D)  (None, 128, 32)     0           ['conv1d_1[0][0]']               \n",
            "                                                                                                  \n",
            " max_pooling1d_3 (MaxPooling1D)  (None, 128, 64)     0           ['bidirectional_1[0][0]']        \n",
            "                                                                                                  \n",
            " dropout_1 (Dropout)            (None, 128, 32)      0           ['max_pooling1d_1[0][0]']        \n",
            "                                                                                                  \n",
            " layer_normalization (LayerNorm  (None, 128, 64)     128         ['max_pooling1d_3[0][0]']        \n",
            " alization)                                                                                       \n",
            "                                                                                                  \n",
            " concatenate (Concatenate)      (None, 128, 96)      0           ['dropout_1[0][0]',              \n",
            "                                                                  'layer_normalization[0][0]']    \n",
            "                                                                                                  \n",
            " global_max_pooling1d (GlobalMa  (None, 96)          0           ['concatenate[0][0]']            \n",
            " xPooling1D)                                                                                      \n",
            "                                                                                                  \n",
            " layer_normalization_1 (LayerNo  (None, 96)          192         ['global_max_pooling1d[0][0]']   \n",
            " rmalization)                                                                                     \n",
            "                                                                                                  \n",
            " dense (Dense)                  (None, 90)           8730        ['layer_normalization_1[0][0]']  \n",
            "                                                                                                  \n",
            " dropout_2 (Dropout)            (None, 90)           0           ['dense[0][0]']                  \n",
            "                                                                                                  \n",
            " dense_1 (Dense)                (None, 70)           6370        ['dropout_2[0][0]']              \n",
            "                                                                                                  \n",
            " dropout_3 (Dropout)            (None, 70)           0           ['dense_1[0][0]']                \n",
            "                                                                                                  \n",
            " dense_2 (Dense)                (None, 50)           3550        ['dropout_3[0][0]']              \n",
            "                                                                                                  \n",
            " dropout_4 (Dropout)            (None, 50)           0           ['dense_2[0][0]']                \n",
            "                                                                                                  \n",
            " dense_3 (Dense)                (None, 30)           1530        ['dropout_4[0][0]']              \n",
            "                                                                                                  \n",
            " dropout_5 (Dropout)            (None, 30)           0           ['dense_3[0][0]']                \n",
            "                                                                                                  \n",
            " dense_4 (Dense)                (None, 3)            93          ['dropout_5[0][0]']              \n",
            "                                                                                                  \n",
            "==================================================================================================\n",
            "Total params: 739,825\n",
            "Trainable params: 739,825\n",
            "Non-trainable params: 0\n",
            "__________________________________________________________________________________________________\n"
          ]
        }
      ],
      "source": [
        "model = generate_model()\n",
        "adam = Adam(learning_rate=0.001)\n",
        "model.compile(optimizer=adam, loss='categorical_crossentropy', metrics=['accuracy'])\n",
        "model.summary()"
      ]
    },
    {
      "cell_type": "code",
      "execution_count": null,
      "metadata": {
        "colab": {
          "base_uri": "https://localhost:8080/"
        },
        "id": "nkG2s_bJvzt8",
        "outputId": "bf840d59-c8a4-46f0-ace7-f53f45287ce0"
      },
      "outputs": [
        {
          "name": "stdout",
          "output_type": "stream",
          "text": [
            "Epoch 1/10\n",
            "103/103 [==============================] - 170s 2s/step - loss: 0.0678 - accuracy: 0.9797 - val_loss: 0.3801 - val_accuracy: 0.8933\n",
            "Epoch 2/10\n",
            "103/103 [==============================] - 157s 2s/step - loss: 0.0482 - accuracy: 0.9854 - val_loss: 0.3999 - val_accuracy: 0.8917\n",
            "Epoch 3/10\n",
            "103/103 [==============================] - 167s 2s/step - loss: 0.0475 - accuracy: 0.9856 - val_loss: 0.4644 - val_accuracy: 0.8873\n",
            "Epoch 4/10\n",
            "103/103 [==============================] - 151s 1s/step - loss: 0.0576 - accuracy: 0.9817 - val_loss: 0.4275 - val_accuracy: 0.8840\n",
            "Epoch 5/10\n",
            "103/103 [==============================] - 151s 1s/step - loss: 0.0386 - accuracy: 0.9886 - val_loss: 0.5191 - val_accuracy: 0.8875\n",
            "Epoch 6/10\n",
            "103/103 [==============================] - 146s 1s/step - loss: 0.0356 - accuracy: 0.9895 - val_loss: 0.6951 - val_accuracy: 0.8878\n",
            "Epoch 7/10\n",
            "103/103 [==============================] - 152s 1s/step - loss: 0.0285 - accuracy: 0.9904 - val_loss: 0.6815 - val_accuracy: 0.8771\n",
            "Epoch 8/10\n",
            "103/103 [==============================] - 145s 1s/step - loss: 0.0291 - accuracy: 0.9904 - val_loss: 0.5940 - val_accuracy: 0.8862\n",
            "Epoch 9/10\n",
            "103/103 [==============================] - 150s 1s/step - loss: 0.0339 - accuracy: 0.9881 - val_loss: 0.5918 - val_accuracy: 0.8851\n",
            "Epoch 10/10\n",
            "103/103 [==============================] - 150s 1s/step - loss: 0.0247 - accuracy: 0.9920 - val_loss: 0.6464 - val_accuracy: 0.8837\n"
          ]
        }
      ],
      "source": [
        "callback_model = tf.keras.callbacks.ModelCheckpoint('model_cnn_bilstm.h5', monitors='val_loss')\n",
        "model.fit(x = X_train, y = Y_train, validation_data=(X_val, Y_val), epochs=10, batch_size=150, callbacks=[callback_model])"
      ]
    },
    {
      "cell_type": "code",
      "execution_count": null,
      "metadata": {
        "id": "eWoih8XIA-ym"
      },
      "outputs": [],
      "source": [
        "def preprocess_raw_input(raw_input, tokenizer):\n",
        "  input_text_pre = list(tf.keras.preprocessing.text.text_to_word_sequence(raw_input))\n",
        "  input_text_pre = \" \".join(input_text_pre)\n",
        "  input_text_pre_accent = ViTokenizer.tokenize(input_text_pre)\n",
        "  print(\"Text: preprocessed:\", input_text_pre_accent)\n",
        "  tokenized_data_test = tokenizer.texts_to_sequences([input_text_pre_accent])\n",
        "  vec_data = pad_sequences(tokenized_data_test, padding='post', maxlen=600)\n",
        "  return vec_data\n",
        "\n",
        "def inference_model(input_feature, model):\n",
        "  output = model(input_feature).numpy()[0]\n",
        "  result = output.argmax()\n",
        "  conf = float(output.max())\n",
        "  label_dict = {0:0, 1:1}\n",
        "  label = list(label_dict.keys())\n",
        "  return label[int(result)], conf\n",
        "\n",
        "def prediction(raw_input, tokenizer, model):\n",
        "  input_model = preprocess_raw_input(raw_input, tokenizer_data)\n",
        "  result, conf = inference_model(input_model, model)\n",
        "\n",
        "  return result, conf\n",
        "\n",
        "my_model = generate_model()\n",
        "my_model = load_model('model_cnn_bilstm.h5')"
      ]
    },
    {
      "cell_type": "code",
      "source": [
        "t = 0\n",
        "rating = []\n",
        "while(t < len(test_data)):\n",
        "    if(pd.isna(test_data['Comment'][t])==True):\n",
        "        rating.append(0)\n",
        "    else:\n",
        "        rating.append(prediction(test_data['Comment'][t], tokenizer_data, my_model)[0])\n",
        "    print(\"\\n\")\n",
        "    t = t + 1"
      ],
      "metadata": {
        "id": "DnrN6V4v5-7e"
      },
      "execution_count": null,
      "outputs": []
    },
    {
      "cell_type": "code",
      "source": [
        "revId = test_data['RevId']\n",
        "final_test = pd.DataFrame({'RevId':revId, 'Rating':rating})\n",
        "final_test.to_csv(\"finaltest.csv\", index=False)"
      ],
      "metadata": {
        "id": "I-DKCoAE6cH0"
      },
      "execution_count": null,
      "outputs": []
    }
  ],
  "metadata": {
    "accelerator": "TPU",
    "colab": {
      "provenance": []
    },
    "gpuClass": "standard",
    "kernelspec": {
      "display_name": "Python 3",
      "name": "python3"
    },
    "language_info": {
      "name": "python"
    }
  },
  "nbformat": 4,
  "nbformat_minor": 0
}